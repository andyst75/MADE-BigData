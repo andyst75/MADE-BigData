{
 "cells": [
  {
   "cell_type": "code",
   "execution_count": 1,
   "id": "aa813f73-86cb-4cbd-a55d-fd5c04c73a24",
   "metadata": {},
   "outputs": [
    {
     "data": {
      "text/plain": [
       "(152.7206871868289, 57674.02524696084)"
      ]
     },
     "execution_count": 1,
     "metadata": {},
     "output_type": "execute_result"
    }
   ],
   "source": [
    "import csv\n",
    "\n",
    "data = []\n",
    "with open('data/AB_NYC_2019.csv', 'r') as file:\n",
    "    reader = csv.reader(file)\n",
    "    for row in reader:\n",
    "        value = row[9]\n",
    "        if value != 'price':\n",
    "            data.append(int(value))\n",
    "\n",
    "mean = sum(data) / len(data)\n",
    "var = sum((x - mean) ** 2 for x in data) / (len(data) - 1)\n",
    "mean, var"
   ]
  }
 ],
 "metadata": {
  "kernelspec": {
   "display_name": "lab",
   "language": "python",
   "name": "lab"
  },
  "language_info": {
   "codemirror_mode": {
    "name": "ipython",
    "version": 3
   },
   "file_extension": ".py",
   "mimetype": "text/x-python",
   "name": "python",
   "nbconvert_exporter": "python",
   "pygments_lexer": "ipython3",
   "version": "3.7.10"
  }
 },
 "nbformat": 4,
 "nbformat_minor": 5
}
